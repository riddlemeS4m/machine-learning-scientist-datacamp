{
  "cells": [
    {
      "cell_type": "markdown",
      "metadata": {
        "id": "view-in-github",
        "colab_type": "text"
      },
      "source": [
        "<a href=\"https://colab.research.google.com/github/riddlemeS4m/machine-learning-scientist-datacamp/blob/dev-google/module-3-unsupervised-learning/nmf.ipynb\" target=\"_parent\"><img src=\"https://colab.research.google.com/assets/colab-badge.svg\" alt=\"Open In Colab\"/></a>"
      ]
    },
    {
      "cell_type": "markdown",
      "source": [
        "Module 3: Unsupervised Learning in Python"
      ],
      "metadata": {
        "id": "pxSNd4juMrAu"
      }
    },
    {
      "cell_type": "code",
      "source": [
        "import pandas as pd\n",
        "import numpy as np\n",
        "import warnings\n",
        "\n",
        "warnings.filterwarnings('ignore')"
      ],
      "metadata": {
        "id": "rH_8y2UVMp46"
      },
      "execution_count": null,
      "outputs": []
    },
    {
      "cell_type": "code",
      "source": [
        "!pip install scikit-learn"
      ],
      "metadata": {
        "colab": {
          "base_uri": "https://localhost:8080/"
        },
        "id": "7GDRzdbhNEpd",
        "outputId": "fde61f26-ace7-4e67-808d-c3f70826ff64"
      },
      "execution_count": null,
      "outputs": [
        {
          "output_type": "stream",
          "name": "stdout",
          "text": [
            "Requirement already satisfied: scikit-learn in /usr/local/lib/python3.10/dist-packages (1.2.2)\n",
            "Requirement already satisfied: numpy>=1.17.3 in /usr/local/lib/python3.10/dist-packages (from scikit-learn) (1.25.2)\n",
            "Requirement already satisfied: scipy>=1.3.2 in /usr/local/lib/python3.10/dist-packages (from scikit-learn) (1.11.4)\n",
            "Requirement already satisfied: joblib>=1.1.1 in /usr/local/lib/python3.10/dist-packages (from scikit-learn) (1.4.2)\n",
            "Requirement already satisfied: threadpoolctl>=2.0.0 in /usr/local/lib/python3.10/dist-packages (from scikit-learn) (3.5.0)\n"
          ]
        }
      ]
    },
    {
      "cell_type": "code",
      "source": [
        "# non negative matrix factorization\n",
        "# another dimension reduction technique\n",
        "# unlike PCA, it is easily interpretable by the viewer\n",
        "# all sample features must be non-negative"
      ],
      "metadata": {
        "id": "r7ldTYrqNLvM"
      },
      "execution_count": null,
      "outputs": []
    },
    {
      "cell_type": "code",
      "source": [
        "# nmf decomposes samples as sums of their parts, multiplied by their coefficients, kind of like regression"
      ],
      "metadata": {
        "id": "J6K5CpUcRnY7"
      },
      "execution_count": null,
      "outputs": []
    },
    {
      "cell_type": "code",
      "source": [
        "from sklearn.decomposition import NMF"
      ],
      "metadata": {
        "id": "GrOTMbctQitv"
      },
      "execution_count": null,
      "outputs": []
    },
    {
      "cell_type": "code",
      "source": [
        "#tf - frequency of a word in a document\n",
        "#idf - weighting scheme that reduces important of dumb words like 'the'"
      ],
      "metadata": {
        "id": "wxVMKLfxQlVF"
      },
      "execution_count": null,
      "outputs": []
    },
    {
      "cell_type": "code",
      "source": [
        "model = NMF(n_components=2)\n",
        "model.fit(samples)\n",
        "nmf_features = model.transform(samples)\n",
        "model.components_"
      ],
      "metadata": {
        "id": "Lg8zyKxaQw6W"
      },
      "execution_count": null,
      "outputs": []
    },
    {
      "cell_type": "code",
      "source": [
        "print(samples[i,:])\n",
        "print(nmf_features[i,:])"
      ],
      "metadata": {
        "id": "QMq549XERDhJ"
      },
      "execution_count": null,
      "outputs": []
    },
    {
      "cell_type": "code",
      "source": [
        "# multiple the model.components_ array by the nmf features of a sample to basically reconstruct the sample\n",
        "# often called product of matrices"
      ],
      "metadata": {
        "id": "RklEdz3fRK5s"
      },
      "execution_count": null,
      "outputs": []
    },
    {
      "cell_type": "markdown",
      "source": [
        "NMF learns interpretable parts"
      ],
      "metadata": {
        "id": "ihbb7s16TWHk"
      }
    },
    {
      "cell_type": "code",
      "source": [
        "print(articles.shape)"
      ],
      "metadata": {
        "id": "wyoT9OIyTXnP"
      },
      "execution_count": null,
      "outputs": []
    },
    {
      "cell_type": "code",
      "source": [
        "nmf = NMF(n_components=10)\n",
        "nmf.fit(articles)"
      ],
      "metadata": {
        "id": "Km7JhhTDTcRe"
      },
      "execution_count": null,
      "outputs": []
    },
    {
      "cell_type": "code",
      "source": [
        "nmf.components_.shape"
      ],
      "metadata": {
        "id": "-UpDhagqTf1i"
      },
      "execution_count": null,
      "outputs": []
    },
    {
      "cell_type": "code",
      "source": [
        "# when nmf is applied to documents, the components correspond to topics, and nmf reconstructs documents from topics\n",
        "# when nmf is applied to images, the components correspond to patterns or pixels, and nmf reconstructs the picture from the pattern"
      ],
      "metadata": {
        "id": "p8bLbD5gTiEz"
      },
      "execution_count": null,
      "outputs": []
    },
    {
      "cell_type": "code",
      "source": [
        "# grayscale images are decomposed into features, then 'flattened' into one long list\n",
        "# the following code reshapes the features to allow us to get the image back"
      ],
      "metadata": {
        "id": "masUqTtdUOV0"
      },
      "execution_count": null,
      "outputs": []
    },
    {
      "cell_type": "code",
      "source": [
        "bitmap = sample.reshape((2,3))\n",
        "bitmap"
      ],
      "metadata": {
        "id": "cVHoss35UUGA"
      },
      "execution_count": null,
      "outputs": []
    },
    {
      "cell_type": "code",
      "source": [
        "from matplotlib import pyplot as plt\n",
        "plt.imshow(bitmap, cmap='gray',interpolation='nearest')\n",
        "plt.show()"
      ],
      "metadata": {
        "id": "UazdiqvxUg42"
      },
      "execution_count": null,
      "outputs": []
    },
    {
      "cell_type": "markdown",
      "source": [
        "Exercises"
      ],
      "metadata": {
        "id": "qT69i9pDV9ha"
      }
    },
    {
      "cell_type": "code",
      "source": [
        "# Import NMF\n",
        "from sklearn.decomposition import NMF\n",
        "\n",
        "# Create an NMF instance: model\n",
        "model = NMF(n_components=6)\n",
        "\n",
        "# Fit the model to articles\n",
        "model.fit(articles)\n",
        "\n",
        "# Transform the articles: nmf_features\n",
        "nmf_features = model.transform(articles)\n",
        "\n",
        "# Print the NMF features\n",
        "print(nmf_features.round(2))\n"
      ],
      "metadata": {
        "id": "dROLv1blV-ih"
      },
      "execution_count": null,
      "outputs": []
    },
    {
      "cell_type": "code",
      "source": [
        "# Import pandas\n",
        "import pandas as pd\n",
        "\n",
        "# Create a pandas DataFrame: df\n",
        "df = pd.DataFrame(nmf_features, index=titles)\n",
        "\n",
        "# Print the row for 'Anne Hathaway'\n",
        "print(df.loc['Anne Hathaway',:])\n",
        "\n",
        "# Print the row for 'Denzel Washington'\n",
        "print(df.loc['Denzel Washington',:])\n"
      ],
      "metadata": {
        "id": "68Kz5buHWAZp"
      },
      "execution_count": null,
      "outputs": []
    },
    {
      "cell_type": "markdown",
      "source": [
        "More Exercises"
      ],
      "metadata": {
        "id": "ns8OjTMUWIWU"
      }
    },
    {
      "cell_type": "code",
      "source": [
        "# Import pandas\n",
        "import pandas as pd\n",
        "\n",
        "# Create a DataFrame: components_df\n",
        "components_df = pd.DataFrame(model.components_, columns=words)\n",
        "\n",
        "# Print the shape of the DataFrame\n",
        "print(components_df.shape)\n",
        "\n",
        "# Select row 3: component\n",
        "component = components_df.iloc[3,:]\n",
        "\n",
        "# Print result of nlargest\n",
        "print(component.nlargest())\n"
      ],
      "metadata": {
        "id": "Im4Pp868WCyV"
      },
      "execution_count": null,
      "outputs": []
    },
    {
      "cell_type": "code",
      "source": [
        "# Import pyplot\n",
        "from matplotlib import pyplot as plt\n",
        "\n",
        "# Select the 0th row: digit\n",
        "digit = samples[0]\n",
        "\n",
        "# Print digit\n",
        "print(digit)\n",
        "\n",
        "# Reshape digit to a 13x8 array: bitmap\n",
        "bitmap = digit.reshape((13,8))\n",
        "\n",
        "# Print bitmap\n",
        "print(bitmap)\n",
        "\n",
        "# Use plt.imshow to display bitmap\n",
        "plt.imshow(bitmap, cmap='gray', interpolation='nearest')\n",
        "plt.colorbar()\n",
        "plt.show()\n"
      ],
      "metadata": {
        "id": "Z5ifKNGkWJwH"
      },
      "execution_count": null,
      "outputs": []
    },
    {
      "cell_type": "code",
      "source": [
        "# Import NMF\n",
        "from sklearn.decomposition import NMF\n",
        "\n",
        "# Create an NMF model: model\n",
        "model = NMF(n_components=7)\n",
        "\n",
        "# Apply fit_transform to samples: features\n",
        "features = model.fit_transform(samples)\n",
        "\n",
        "# Call show_as_image on each component\n",
        "for component in model.components_:\n",
        "    show_as_image(component)\n",
        "\n",
        "# Select the 0th row of features: digit_features\n",
        "digit_features = features[0]\n",
        "\n",
        "# Print digit_features\n",
        "print(digit_features)"
      ],
      "metadata": {
        "id": "-3kAUIBUWLXO"
      },
      "execution_count": null,
      "outputs": []
    },
    {
      "cell_type": "code",
      "source": [
        "# Import PCA\n",
        "from sklearn.decomposition import PCA\n",
        "\n",
        "# Create a PCA instance: model\n",
        "model = PCA(n_components=7)\n",
        "\n",
        "# Apply fit_transform to samples: features\n",
        "features = model.fit_transform(samples)\n",
        "\n",
        "# Call show_as_image on each component\n",
        "for component in model.components_:\n",
        "    show_as_image(component)\n",
        "\n",
        "# as seen here, this example is not as meaningful as NMF\n",
        "# unlike nmf, pca doesn't learn parts of things"
      ],
      "metadata": {
        "id": "2Xh2LNABWOsw"
      },
      "execution_count": null,
      "outputs": []
    }
  ],
  "metadata": {
    "colab": {
      "name": "Welcome To Colab",
      "toc_visible": true,
      "provenance": [],
      "include_colab_link": true
    },
    "kernelspec": {
      "display_name": "Python 3",
      "name": "python3"
    }
  },
  "nbformat": 4,
  "nbformat_minor": 0
}