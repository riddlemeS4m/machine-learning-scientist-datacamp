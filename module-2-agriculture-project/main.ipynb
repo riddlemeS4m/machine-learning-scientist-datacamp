{
  "cells": [
    {
      "cell_type": "markdown",
      "metadata": {
        "colab_type": "text",
        "id": "view-in-github"
      },
      "source": [
        "<a href=\"https://colab.research.google.com/github/riddlemeS4m/machine-learning-scientist-datacamp/blob/main/module-2-agriculture-project/main.ipynb\" target=\"_parent\"><img src=\"https://colab.research.google.com/assets/colab-badge.svg\" alt=\"Open In Colab\"/></a>"
      ]
    },
    {
      "cell_type": "markdown",
      "metadata": {
        "id": "pxSNd4juMrAu"
      },
      "source": [
        "Module 2: Predictive Modeling in Agriculture"
      ]
    },
    {
      "cell_type": "code",
      "execution_count": 4,
      "metadata": {
        "colab": {
          "base_uri": "https://localhost:8080/"
        },
        "id": "ejj1rBGkN4iv",
        "outputId": "6d9224d6-01c4-45f8-8793-99851b6649d6"
      },
      "outputs": [
        {
          "name": "stdout",
          "output_type": "stream",
          "text": [
            "This is a very insignificant change lol.\n"
          ]
        }
      ],
      "source": [
        "# All required libraries are imported here for you.\n",
        "import pandas as pd\n",
        "from sklearn.linear_model import LogisticRegression\n",
        "from sklearn.model_selection import train_test_split\n",
        "from sklearn import metrics\n",
        "\n",
        "# Load the dataset\n",
        "crops = pd.read_csv(\"soil_measures.csv\")\n",
        "\n",
        "# # Write your code here\n",
        "\n",
        "# print(crops.head())\n",
        "print(crops.keys())\n",
        "\n",
        "# check for missing values\n",
        "\n",
        "# print(len(crops))\n",
        "# print(crops.isna().sum())\n",
        "crops.dropna()\n",
        "\n",
        "# check for multiple crop types\n",
        "\n",
        "print(crops['crop'].unique())\n",
        "\n",
        "# features and target variables\n",
        "\n",
        "X = crops.drop('crop', axis=1)\n",
        "y = crops['crop']\n",
        "\n",
        "# train_test_split\n",
        "\n",
        "X_train, X_test, y_train, y_test = train_test_split(X, y, test_size=0.3, random_state=42)\n",
        "\n",
        "# dictionary to store predictive performance\n",
        "\n",
        "feature_performance = {}\n",
        "\n",
        "# loop through the features\n",
        "\n",
        "for feature in X.keys():\n",
        "    \n",
        "    print(feature)\n",
        "    # training a multi-classifier algorithm\n",
        "    \n",
        "    logreg = LogisticRegression(multi_class='multinomial')\n",
        "    logreg.fit(X_train[[feature]], y_train)\n",
        "    \n",
        "    # predicting target values using the test set\n",
        "    \n",
        "    y_pred = logreg.predict(X_test[[feature]])\n",
        "    \n",
        "    # evaluating the performance of each feature\n",
        "    \n",
        "    score = metrics.accuracy_score(y_test, y_pred)\n",
        "    feature_performance[feature] = score\n",
        "    print(f'Feature {feature} had an accuracy score of: {score}')\n",
        "    \n",
        "# saving the information\n",
        "\n",
        "best_predictive_feature = {}\n",
        "\n",
        "max_key = max(feature_performance, key=feature_performance.get)\n",
        "best_predictive_feature[max_key] = feature_performance[max_key]\n",
        "\n",
        "print(f'The best feature was {max_key}.')"
      ]
    }
  ],
  "metadata": {
    "colab": {
      "include_colab_link": true,
      "name": "Welcome To Colab",
      "provenance": [],
      "toc_visible": true
    },
    "kernelspec": {
      "display_name": "Python 3",
      "name": "python3"
    }
  },
  "nbformat": 4,
  "nbformat_minor": 0
}
