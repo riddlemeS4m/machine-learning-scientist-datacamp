{
  "cells": [
    {
      "cell_type": "markdown",
      "metadata": {
        "id": "view-in-github",
        "colab_type": "text"
      },
      "source": [
        "<a href=\"https://colab.research.google.com/github/riddlemeS4m/machine-learning-scientist-datacamp/blob/dev-google/module-5-linear-classifiers/regularization.ipynb\" target=\"_parent\"><img src=\"https://colab.research.google.com/assets/colab-badge.svg\" alt=\"Open In Colab\"/></a>"
      ]
    },
    {
      "cell_type": "markdown",
      "source": [
        "[Insert Title Here]"
      ],
      "metadata": {
        "id": "pxSNd4juMrAu"
      }
    },
    {
      "cell_type": "code",
      "source": [
        "import pandas as pd\n",
        "import numpy as np\n",
        "import warnings\n",
        "\n",
        "warnings.filterwarnings('ignore')"
      ],
      "metadata": {
        "id": "rH_8y2UVMp46"
      },
      "execution_count": null,
      "outputs": []
    },
    {
      "cell_type": "code",
      "source": [
        "!pip install scikit-learn"
      ],
      "metadata": {
        "colab": {
          "base_uri": "https://localhost:8080/"
        },
        "id": "7GDRzdbhNEpd",
        "outputId": "fde61f26-ace7-4e67-808d-c3f70826ff64"
      },
      "execution_count": null,
      "outputs": [
        {
          "output_type": "stream",
          "name": "stdout",
          "text": [
            "Requirement already satisfied: scikit-learn in /usr/local/lib/python3.10/dist-packages (1.2.2)\n",
            "Requirement already satisfied: numpy>=1.17.3 in /usr/local/lib/python3.10/dist-packages (from scikit-learn) (1.25.2)\n",
            "Requirement already satisfied: scipy>=1.3.2 in /usr/local/lib/python3.10/dist-packages (from scikit-learn) (1.11.4)\n",
            "Requirement already satisfied: joblib>=1.1.1 in /usr/local/lib/python3.10/dist-packages (from scikit-learn) (1.4.2)\n",
            "Requirement already satisfied: threadpoolctl>=2.0.0 in /usr/local/lib/python3.10/dist-packages (from scikit-learn) (3.5.0)\n"
          ]
        }
      ]
    },
    {
      "cell_type": "code",
      "source": [
        "# regularization combats overfitting by making the model coefficients smaller"
      ],
      "metadata": {
        "id": "r7ldTYrqNLvM"
      },
      "execution_count": null,
      "outputs": []
    },
    {
      "cell_type": "code",
      "source": [
        "# hyperparameter C is inverse of regularization strength: larger C, less regularization"
      ],
      "metadata": {
        "id": "SUui07F8eoxg"
      },
      "execution_count": null,
      "outputs": []
    },
    {
      "cell_type": "code",
      "source": [
        "lr_weak_reg = LogisticRegression(C=100)\n",
        "lr_strong_reg = LogisticRegression(C=0.01)"
      ],
      "metadata": {
        "id": "6J1Q0FEHc6Bh"
      },
      "execution_count": null,
      "outputs": []
    },
    {
      "cell_type": "code",
      "source": [
        "lr_weak_reg.fit(X_train, y_train) # 1.0\n",
        "lr_strong_reg.fit(X_train, y_train) # 0.92"
      ],
      "metadata": {
        "id": "Su8pcDb6c_zf"
      },
      "execution_count": null,
      "outputs": []
    },
    {
      "cell_type": "code",
      "source": [
        "# regularization is an extra term we add to the original loss function, which penalizes large values of coefficients, distracting from the goal of optimizing accuracy\n",
        "# without regularization, we improve training accuracy\n",
        "# the smaller the value of C, the more we distract from optimizing accuracy"
      ],
      "metadata": {
        "id": "PoC15Xmle_4H"
      },
      "execution_count": null,
      "outputs": []
    },
    {
      "cell_type": "code",
      "source": [
        "# regularized loss = original loss + large coefficient penalty\n",
        "# more regularization: lower training accuracy\n",
        "# more regularization: (almost always) higher test accuracy"
      ],
      "metadata": {
        "id": "z5GKMAJ3dHDL"
      },
      "execution_count": null,
      "outputs": []
    },
    {
      "cell_type": "code",
      "source": [
        "lr_weak_reg.score(X_test, y_test) # 0.86\n",
        "lr_strong_reg.score(X_test, y_test) # 0.88"
      ],
      "metadata": {
        "id": "T3v8oIlZdVW8"
      },
      "execution_count": null,
      "outputs": []
    },
    {
      "cell_type": "code",
      "source": [
        "# regularizing is compromising between not using a feature at all and fully using it\n",
        "# if using a feature too heavily was causing overfitting, then regularization causes you to \"fit less\"\n",
        "# in this case, the test accuracy improves because we overfitted less than without regularization"
      ],
      "metadata": {
        "id": "twvs3uLjkp6g"
      },
      "execution_count": null,
      "outputs": []
    },
    {
      "cell_type": "code",
      "source": [
        "# lasso - linear regression with L1 regularization\n",
        "# ridge - linear regression with L2 regularization"
      ],
      "metadata": {
        "id": "_1cI9MAodpfk"
      },
      "execution_count": null,
      "outputs": []
    },
    {
      "cell_type": "code",
      "source": [
        "# everything about l1 and l2 also applies to logistic regression, both reduce overfitting\n",
        "# l1 can perform feature selection"
      ],
      "metadata": {
        "id": "ey8G1b7hmxkI"
      },
      "execution_count": null,
      "outputs": []
    },
    {
      "cell_type": "code",
      "source": [
        "lr_L1 = LogisticRegression(solver='liblinear', penalty='l1') # solver argument controls optimization method used to find coefficients, default solver not compatible with l1\n",
        "lr_L2 = LogisticRegression() # penalty l2 by default\n",
        "\n",
        "lr_L1.fit(X_train, y_train)\n",
        "lr_L2.fit(X_train, y_train)"
      ],
      "metadata": {
        "id": "R6z9_D58dx_e"
      },
      "execution_count": null,
      "outputs": []
    },
    {
      "cell_type": "code",
      "source": [
        "plt.plot(lr_L1.coef_.flatten())\n",
        "plt.plot(lr_L2.coef_.flatten())"
      ],
      "metadata": {
        "id": "xbkn1DITd94q"
      },
      "execution_count": null,
      "outputs": []
    },
    {
      "cell_type": "code",
      "source": [
        "# result l1 sets coefficients to zero, peforming feature selection\n",
        "# result l2 just shrinks coefficients"
      ],
      "metadata": {
        "id": "dFp_oY_jeYOJ"
      },
      "execution_count": null,
      "outputs": []
    },
    {
      "cell_type": "markdown",
      "source": [
        "Exercise"
      ],
      "metadata": {
        "id": "W5tc-97Gn5Rw"
      }
    },
    {
      "cell_type": "code",
      "source": [
        "# Train and validaton errors initialized as empty list\n",
        "train_errs = list()\n",
        "valid_errs = list()\n",
        "\n",
        "# Loop over values of C_value\n",
        "for C_value in [0.001, 0.01, 0.1, 1, 10, 100, 1000]:\n",
        "    # Create LogisticRegression object and fit\n",
        "    lr = LogisticRegression(C=C_value)\n",
        "    lr.fit(X_train, y_train)\n",
        "\n",
        "    # Evaluate error rates and append to lists\n",
        "    train_errs.append( 1.0 - lr.score(X_train, y_train) )\n",
        "    valid_errs.append( 1.0 - lr.score(X_valid, y_valid) )\n",
        "\n",
        "# Plot results\n",
        "plt.semilogx(C_values, train_errs, C_values, valid_errs)\n",
        "plt.legend((\"train\", \"validation\"))\n",
        "plt.show()"
      ],
      "metadata": {
        "id": "BGOmBrevn6uj"
      },
      "execution_count": null,
      "outputs": []
    },
    {
      "cell_type": "markdown",
      "source": [
        "Exercise"
      ],
      "metadata": {
        "id": "Jyv4dRGMoPI7"
      }
    },
    {
      "cell_type": "code",
      "source": [
        "# Specify L1 regularization\n",
        "lr = LogisticRegression(solver='liblinear', penalty='l1')\n",
        "\n",
        "# Instantiate the GridSearchCV object and run the search\n",
        "searcher = GridSearchCV(lr, {'C':[0.001, 0.01, 0.1, 1, 10]})\n",
        "searcher.fit(X_train, y_train)\n",
        "\n",
        "# Report the best parameters\n",
        "print(\"Best CV params\", searcher.best_params_)\n",
        "\n",
        "# Find the number of nonzero coefficients (selected features)\n",
        "best_lr = searcher.best_estimator_\n",
        "coefs = best_lr.coef_\n",
        "print(\"Total number of features:\", coefs.size)\n",
        "print(\"Number of selected features:\", np.count_nonzero(coefs))"
      ],
      "metadata": {
        "id": "gUSPYw4AoPpS"
      },
      "execution_count": null,
      "outputs": []
    },
    {
      "cell_type": "markdown",
      "source": [
        "Exercise"
      ],
      "metadata": {
        "id": "661PDVKipPCg"
      }
    },
    {
      "cell_type": "code",
      "source": [
        "# Get the indices of the sorted cofficients\n",
        "inds_ascending = np.argsort(lr.coef_.flatten())\n",
        "inds_descending = inds_ascending[::-1]\n",
        "\n",
        "# Print the most positive words\n",
        "print(\"Most positive words: \", end=\"\")\n",
        "for i in range(5):\n",
        "    print(vocab[inds_descending[i]], end=\", \")\n",
        "print(\"\\n\")\n",
        "\n",
        "# Print most negative words\n",
        "print(\"Most negative words: \", end=\"\")\n",
        "for i in range(5):\n",
        "    print(vocab[inds_ascending[i]], end=\", \")\n",
        "print(\"\\n\")"
      ],
      "metadata": {
        "id": "N860uYunpPlQ"
      },
      "execution_count": null,
      "outputs": []
    }
  ],
  "metadata": {
    "colab": {
      "name": "Welcome To Colab",
      "toc_visible": true,
      "provenance": [],
      "include_colab_link": true
    },
    "kernelspec": {
      "display_name": "Python 3",
      "name": "python3"
    }
  },
  "nbformat": 4,
  "nbformat_minor": 0
}