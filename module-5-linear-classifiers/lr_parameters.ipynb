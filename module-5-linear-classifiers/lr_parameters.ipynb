{
 "cells": [
  {
   "cell_type": "code",
   "execution_count": 1,
   "id": "04d79bf2",
   "metadata": {},
   "outputs": [],
   "source": [
    "import pandas as pd\n",
    "import numpy as np\n",
    "import warnings\n",
    "\n",
    "warnings.filterwarnings('ignore')"
   ]
  },
  {
   "cell_type": "code",
   "execution_count": 2,
   "id": "f8f80b86",
   "metadata": {},
   "outputs": [],
   "source": [
    "#multi-class logistic regression"
   ]
  },
  {
   "cell_type": "code",
   "execution_count": 3,
   "id": "cb8304ac",
   "metadata": {},
   "outputs": [],
   "source": [
    "#one vs. rest"
   ]
  },
  {
   "cell_type": "code",
   "execution_count": 4,
   "id": "92197263",
   "metadata": {},
   "outputs": [],
   "source": [
    "from sklearn.linear_model import LogisticRegression"
   ]
  },
  {
   "cell_type": "code",
   "execution_count": null,
   "id": "49e0916a",
   "metadata": {},
   "outputs": [],
   "source": [
    "lr0 = LogisticRegression()\n",
    "lr1= LogisticRegression()\n",
    "lr2 = LogisticRegression()\n",
    "\n",
    "lr0.fit(X, y==0)\n",
    "lr1.fit(X, y==1)\n",
    "lr2.fit(X, y==2)\n",
    "\n",
    "lr0.decision_function(X)[0]\n",
    "lr1.decision_function(X)[0]\n",
    "lr2.decision_function(X)[0]"
   ]
  },
  {
   "cell_type": "code",
   "execution_count": 5,
   "id": "aa114e2c",
   "metadata": {},
   "outputs": [],
   "source": [
    "#basically training 3 different models if observation is categorized as 0 or not 0, 1 or not 1, etc.\n",
    "#to predict class with this method, find which model gives largest decision function/raw model output\n",
    "#alternatively, scikit learn can do it with this"
   ]
  },
  {
   "cell_type": "code",
   "execution_count": null,
   "id": "da23c66d",
   "metadata": {},
   "outputs": [],
   "source": [
    "lr = LogisticRegression(multi_class='ovr')\n",
    "lr.fit(X, y)"
   ]
  },
  {
   "cell_type": "code",
   "execution_count": 6,
   "id": "e1f8238c",
   "metadata": {},
   "outputs": [],
   "source": [
    "# the alternative to one vs. rest is 'multinomial' or 'softmax'\n",
    "# while one vs. rest fits a binary classifier for each category, multinomial fits a single classifier for all categories\n",
    "# no multi-step prediction process unlike one vs. rest\n",
    "# one vs. rest is simple, but it is not directly optimizing accuracy\n",
    "# multinomial tackles the problem directly\n",
    "# SVMs typically use one vs. rest\n",
    "# both methods output probabilities"
   ]
  },
  {
   "cell_type": "code",
   "execution_count": null,
   "id": "2f7c1aad",
   "metadata": {},
   "outputs": [],
   "source": [
    "lr_ovr = LogisticRegression(multi_class='ovr')\n",
    "lr_ovr.fit(X, y)\n",
    "lr_over.coef_.shape\n",
    "lr_over.intercept_.shape"
   ]
  },
  {
   "cell_type": "code",
   "execution_count": null,
   "id": "82e4914d",
   "metadata": {},
   "outputs": [],
   "source": [
    "lr_mn = LogisticRegression(multi_class='multinomial')\n",
    "lr_mn.fit(X, y)\n",
    "lr_mn.coef_.shape\n",
    "lr_mn.intercept_.shape"
   ]
  },
  {
   "cell_type": "code",
   "execution_count": 7,
   "id": "d01d61f4",
   "metadata": {},
   "outputs": [],
   "source": [
    "# ^^ multinomial is default for non-binary classification"
   ]
  },
  {
   "cell_type": "code",
   "execution_count": null,
   "id": "80a413b5",
   "metadata": {},
   "outputs": [],
   "source": [
    "# one coefficient per feature per class"
   ]
  }
 ],
 "metadata": {
  "kernelspec": {
   "display_name": "Python 3 (ipykernel)",
   "language": "python",
   "name": "python3"
  },
  "language_info": {
   "codemirror_mode": {
    "name": "ipython",
    "version": 3
   },
   "file_extension": ".py",
   "mimetype": "text/x-python",
   "name": "python",
   "nbconvert_exporter": "python",
   "pygments_lexer": "ipython3",
   "version": "3.9.13"
  }
 },
 "nbformat": 4,
 "nbformat_minor": 5
}
