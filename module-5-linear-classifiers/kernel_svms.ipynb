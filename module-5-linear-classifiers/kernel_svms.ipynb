{
 "cells": [
  {
   "cell_type": "code",
   "execution_count": 1,
   "id": "07dd453f",
   "metadata": {},
   "outputs": [],
   "source": [
    "# kernel svms"
   ]
  },
  {
   "cell_type": "code",
   "execution_count": 2,
   "id": "27a77ade",
   "metadata": {},
   "outputs": [],
   "source": [
    "# for some datasets that have non-linear boundaries, we can transform each feature (for example, square it) and find a linear decision boundary for the transformed feature"
   ]
  },
  {
   "cell_type": "code",
   "execution_count": 3,
   "id": "b05bc940",
   "metadata": {},
   "outputs": [],
   "source": [
    "from sklearn.svm import SVC\n",
    "\n",
    "svm = SVC(gamma=1) # default is kernel ='rbf', or radial basis function kernel, many other nonlinear kernels exist\n",
    "# gamma is a hyperparameter that controls the smoothness of the boundary, decreasing gamma makes boundaries smoother\n",
    "# higher gamma leads to more precise decision boundaries (100% training accuracy), but definitely leads to overfitting\n",
    "# svc is kinda like an extremely complicated transformation of features, followed by fitting a linear boundary in the new space"
   ]
  },
  {
   "cell_type": "code",
   "execution_count": 4,
   "id": "314ac343",
   "metadata": {},
   "outputs": [],
   "source": [
    "# exercise"
   ]
  },
  {
   "cell_type": "code",
   "execution_count": null,
   "id": "820d1762",
   "metadata": {},
   "outputs": [],
   "source": [
    "# Instantiate an RBF SVM\n",
    "svm = SVC()\n",
    "\n",
    "# Instantiate the GridSearchCV object and run the search\n",
    "parameters = {'C':[0.1, 1, 10], 'gamma':[0.00001, 0.0001, 0.001, 0.01, 0.1]}\n",
    "searcher = GridSearchCV(svm, parameters)\n",
    "searcher.fit(X_train, y_train)\n",
    "\n",
    "# Report the best parameters and the corresponding score\n",
    "print(\"Best CV params\", searcher.best_params_)\n",
    "print(\"Best CV accuracy\", searcher.best_score_)\n",
    "\n",
    "# Report the test accuracy using these best parameters\n",
    "print(\"Test accuracy of best grid search hypers:\", searcher.score(X_test, y_test))"
   ]
  }
 ],
 "metadata": {
  "kernelspec": {
   "display_name": "Python 3 (ipykernel)",
   "language": "python",
   "name": "python3"
  },
  "language_info": {
   "codemirror_mode": {
    "name": "ipython",
    "version": 3
   },
   "file_extension": ".py",
   "mimetype": "text/x-python",
   "name": "python",
   "nbconvert_exporter": "python",
   "pygments_lexer": "ipython3",
   "version": "3.9.13"
  }
 },
 "nbformat": 4,
 "nbformat_minor": 5
}
