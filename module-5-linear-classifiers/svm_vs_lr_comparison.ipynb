{
 "cells": [
  {
   "cell_type": "code",
   "execution_count": 1,
   "id": "4b00a4b3",
   "metadata": {},
   "outputs": [],
   "source": [
    "# comparing logistic regression and svm"
   ]
  },
  {
   "cell_type": "code",
   "execution_count": 2,
   "id": "81ef39fc",
   "metadata": {},
   "outputs": [],
   "source": [
    "# both lr and svm can be used with kernels, but much more common with svm\n",
    "# only lr outputs probabilities, svm does not\n",
    "# both can be extended to multinomial\n",
    "# all data points affect lr fit, but only support vectors affect svm fit\n",
    "# svm typically only use l2 regularization, but lr can use both l1 and l2"
   ]
  },
  {
   "cell_type": "code",
   "execution_count": 3,
   "id": "aa55cb49",
   "metadata": {},
   "outputs": [],
   "source": [
    "# lr parameters include: C (inverse regularization strength), penalty (type of regularization), multi_class [there are also others]\n",
    "# svm parameters include: svm.LinearSVC and svm.SVC (type), C, kernel (type of kernel, like linear or rbf), gamma (inverse rbf smoothness) [there are also others]"
   ]
  },
  {
   "cell_type": "code",
   "execution_count": 4,
   "id": "edc9c902",
   "metadata": {},
   "outputs": [],
   "source": [
    "# SGDClassifier: stochastic gradient descent\n",
    "# just another type of linear classifier that scales very well to large datasets\n",
    "# SGDClassifier loss parameter can be switched between hinge loss and log_loss to change the behavior of the classifier: model is the same, only the loss changes\n",
    "# regularization parameter for SGD is alpha, but alpha is the inverse of C for lr (so greater alpha means greater reg)"
   ]
  },
  {
   "cell_type": "code",
   "execution_count": 5,
   "id": "46e663c3",
   "metadata": {},
   "outputs": [],
   "source": [
    "# exercise"
   ]
  },
  {
   "cell_type": "code",
   "execution_count": null,
   "id": "b78e505d",
   "metadata": {},
   "outputs": [],
   "source": [
    "# We set random_state=0 for reproducibility \n",
    "linear_classifier = SGDClassifier(random_state=0)\n",
    "\n",
    "# Instantiate the GridSearchCV object and run the search\n",
    "parameters = {'alpha':[0.00001, 0.0001, 0.001, 0.01, 0.1, 1], \n",
    "             'loss':['hinge', 'log_loss']}\n",
    "searcher = GridSearchCV(linear_classifier, parameters, cv=10)\n",
    "searcher.fit(X_train, y_train)\n",
    "\n",
    "# Report the best parameters and the corresponding score\n",
    "print(\"Best CV params\", searcher.best_params_)\n",
    "print(\"Best CV accuracy\", searcher.best_score_)\n",
    "print(\"Test accuracy of best grid search hypers:\", searcher.score(X_test, y_test))"
   ]
  }
 ],
 "metadata": {
  "kernelspec": {
   "display_name": "Python 3 (ipykernel)",
   "language": "python",
   "name": "python3"
  },
  "language_info": {
   "codemirror_mode": {
    "name": "ipython",
    "version": 3
   },
   "file_extension": ".py",
   "mimetype": "text/x-python",
   "name": "python",
   "nbconvert_exporter": "python",
   "pygments_lexer": "ipython3",
   "version": "3.9.13"
  }
 },
 "nbformat": 4,
 "nbformat_minor": 5
}
